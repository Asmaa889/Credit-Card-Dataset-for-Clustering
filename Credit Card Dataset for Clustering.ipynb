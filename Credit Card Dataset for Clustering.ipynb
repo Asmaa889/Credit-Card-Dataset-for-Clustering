{
 "cells": [
  {
   "cell_type": "code",
   "execution_count": 1,
   "id": "2dbd4ae6",
   "metadata": {
    "id": "2dbd4ae6"
   },
   "outputs": [
    {
     "name": "stderr",
     "output_type": "stream",
     "text": [
      "C:\\Users\\asmaa mohammed\\AppData\\Local\\Temp\\ipykernel_2808\\1858987229.py:6: DeprecationWarning: `import pandas_profiling` is going to be deprecated by April 1st. Please use `import ydata_profiling` instead.\n",
      "  import pandas_profiling as pp\n"
     ]
    }
   ],
   "source": [
    "import matplotlib\n",
    "import numpy as np\n",
    "import pandas as pd\n",
    "import matplotlib.pyplot as plt\n",
    "import seaborn as sns\n",
    "import pandas_profiling as pp\n",
    "from plotnine import *\n",
    "\n",
    "%matplotlib inline"
   ]
  },
  {
   "cell_type": "code",
   "execution_count": 2,
   "id": "d77cc29f",
   "metadata": {
    "id": "d77cc29f"
   },
   "outputs": [],
   "source": [
    "from sklearn.cluster import KMeans\n",
    "from sklearn.mixture import GaussianMixture\n",
    "from sklearn.metrics import silhouette_score\n",
    "from sklearn.preprocessing import StandardScaler, RobustScaler\n",
    "from sklearn.neighbors import NearestNeighbors\n",
    "from sklearn.cluster import DBSCAN"
   ]
  },
  {
   "cell_type": "code",
   "execution_count": 3,
   "id": "6459955c",
   "metadata": {
    "colab": {
     "base_uri": "https://localhost:8080/"
    },
    "id": "6459955c",
    "outputId": "e1ce8585-cbbc-44b9-b166-4f4fc190a284"
   },
   "outputs": [
    {
     "ename": "ModuleNotFoundError",
     "evalue": "No module named 'google.colab'",
     "output_type": "error",
     "traceback": [
      "\u001b[1;31m---------------------------------------------------------------------------\u001b[0m",
      "\u001b[1;31mModuleNotFoundError\u001b[0m                       Traceback (most recent call last)",
      "Input \u001b[1;32mIn [3]\u001b[0m, in \u001b[0;36m<cell line: 1>\u001b[1;34m()\u001b[0m\n\u001b[1;32m----> 1\u001b[0m \u001b[38;5;28;01mfrom\u001b[39;00m \u001b[38;5;21;01mgoogle\u001b[39;00m\u001b[38;5;21;01m.\u001b[39;00m\u001b[38;5;21;01mcolab\u001b[39;00m \u001b[38;5;28;01mimport\u001b[39;00m drive\n\u001b[0;32m      2\u001b[0m drive\u001b[38;5;241m.\u001b[39mmount(\u001b[38;5;124m'\u001b[39m\u001b[38;5;124m/content/drive\u001b[39m\u001b[38;5;124m'\u001b[39m)\n",
      "\u001b[1;31mModuleNotFoundError\u001b[0m: No module named 'google.colab'"
     ]
    }
   ],
   "source": [
    "from google.colab import drive\n",
    "drive.mount('/content/drive')"
   ]
  },
  {
   "cell_type": "code",
   "execution_count": 7,
   "id": "05dd5b95",
   "metadata": {
    "id": "05dd5b95"
   },
   "outputs": [],
   "source": [
    "data = pd.read_csv(\"CC GENERAL.csv\", header = 0, index_col = 'CUST_ID')"
   ]
  },
  {
   "cell_type": "code",
   "execution_count": 8,
   "id": "ec4b03a4",
   "metadata": {
    "colab": {
     "base_uri": "https://localhost:8080/",
     "height": 301
    },
    "id": "ec4b03a4",
    "outputId": "6a6ad34a-ff12-40b4-80f2-7416c94fdbbe"
   },
   "outputs": [
    {
     "data": {
      "text/html": [
       "<div>\n",
       "<style scoped>\n",
       "    .dataframe tbody tr th:only-of-type {\n",
       "        vertical-align: middle;\n",
       "    }\n",
       "\n",
       "    .dataframe tbody tr th {\n",
       "        vertical-align: top;\n",
       "    }\n",
       "\n",
       "    .dataframe thead th {\n",
       "        text-align: right;\n",
       "    }\n",
       "</style>\n",
       "<table border=\"1\" class=\"dataframe\">\n",
       "  <thead>\n",
       "    <tr style=\"text-align: right;\">\n",
       "      <th></th>\n",
       "      <th>BALANCE</th>\n",
       "      <th>BALANCE_FREQUENCY</th>\n",
       "      <th>PURCHASES</th>\n",
       "      <th>ONEOFF_PURCHASES</th>\n",
       "      <th>INSTALLMENTS_PURCHASES</th>\n",
       "      <th>CASH_ADVANCE</th>\n",
       "      <th>PURCHASES_FREQUENCY</th>\n",
       "      <th>ONEOFF_PURCHASES_FREQUENCY</th>\n",
       "      <th>PURCHASES_INSTALLMENTS_FREQUENCY</th>\n",
       "      <th>CASH_ADVANCE_FREQUENCY</th>\n",
       "      <th>CASH_ADVANCE_TRX</th>\n",
       "      <th>PURCHASES_TRX</th>\n",
       "      <th>CREDIT_LIMIT</th>\n",
       "      <th>PAYMENTS</th>\n",
       "      <th>MINIMUM_PAYMENTS</th>\n",
       "      <th>PRC_FULL_PAYMENT</th>\n",
       "      <th>TENURE</th>\n",
       "    </tr>\n",
       "    <tr>\n",
       "      <th>CUST_ID</th>\n",
       "      <th></th>\n",
       "      <th></th>\n",
       "      <th></th>\n",
       "      <th></th>\n",
       "      <th></th>\n",
       "      <th></th>\n",
       "      <th></th>\n",
       "      <th></th>\n",
       "      <th></th>\n",
       "      <th></th>\n",
       "      <th></th>\n",
       "      <th></th>\n",
       "      <th></th>\n",
       "      <th></th>\n",
       "      <th></th>\n",
       "      <th></th>\n",
       "      <th></th>\n",
       "    </tr>\n",
       "  </thead>\n",
       "  <tbody>\n",
       "    <tr>\n",
       "      <th>C10001</th>\n",
       "      <td>40.900749</td>\n",
       "      <td>0.818182</td>\n",
       "      <td>95.40</td>\n",
       "      <td>0.00</td>\n",
       "      <td>95.4</td>\n",
       "      <td>0.000000</td>\n",
       "      <td>0.166667</td>\n",
       "      <td>0.000000</td>\n",
       "      <td>0.083333</td>\n",
       "      <td>0.000000</td>\n",
       "      <td>0</td>\n",
       "      <td>2</td>\n",
       "      <td>1000.0</td>\n",
       "      <td>201.802084</td>\n",
       "      <td>139.509787</td>\n",
       "      <td>0.000000</td>\n",
       "      <td>12</td>\n",
       "    </tr>\n",
       "    <tr>\n",
       "      <th>C10002</th>\n",
       "      <td>3202.467416</td>\n",
       "      <td>0.909091</td>\n",
       "      <td>0.00</td>\n",
       "      <td>0.00</td>\n",
       "      <td>0.0</td>\n",
       "      <td>6442.945483</td>\n",
       "      <td>0.000000</td>\n",
       "      <td>0.000000</td>\n",
       "      <td>0.000000</td>\n",
       "      <td>0.250000</td>\n",
       "      <td>4</td>\n",
       "      <td>0</td>\n",
       "      <td>7000.0</td>\n",
       "      <td>4103.032597</td>\n",
       "      <td>1072.340217</td>\n",
       "      <td>0.222222</td>\n",
       "      <td>12</td>\n",
       "    </tr>\n",
       "    <tr>\n",
       "      <th>C10003</th>\n",
       "      <td>2495.148862</td>\n",
       "      <td>1.000000</td>\n",
       "      <td>773.17</td>\n",
       "      <td>773.17</td>\n",
       "      <td>0.0</td>\n",
       "      <td>0.000000</td>\n",
       "      <td>1.000000</td>\n",
       "      <td>1.000000</td>\n",
       "      <td>0.000000</td>\n",
       "      <td>0.000000</td>\n",
       "      <td>0</td>\n",
       "      <td>12</td>\n",
       "      <td>7500.0</td>\n",
       "      <td>622.066742</td>\n",
       "      <td>627.284787</td>\n",
       "      <td>0.000000</td>\n",
       "      <td>12</td>\n",
       "    </tr>\n",
       "    <tr>\n",
       "      <th>C10004</th>\n",
       "      <td>1666.670542</td>\n",
       "      <td>0.636364</td>\n",
       "      <td>1499.00</td>\n",
       "      <td>1499.00</td>\n",
       "      <td>0.0</td>\n",
       "      <td>205.788017</td>\n",
       "      <td>0.083333</td>\n",
       "      <td>0.083333</td>\n",
       "      <td>0.000000</td>\n",
       "      <td>0.083333</td>\n",
       "      <td>1</td>\n",
       "      <td>1</td>\n",
       "      <td>7500.0</td>\n",
       "      <td>0.000000</td>\n",
       "      <td>NaN</td>\n",
       "      <td>0.000000</td>\n",
       "      <td>12</td>\n",
       "    </tr>\n",
       "    <tr>\n",
       "      <th>C10005</th>\n",
       "      <td>817.714335</td>\n",
       "      <td>1.000000</td>\n",
       "      <td>16.00</td>\n",
       "      <td>16.00</td>\n",
       "      <td>0.0</td>\n",
       "      <td>0.000000</td>\n",
       "      <td>0.083333</td>\n",
       "      <td>0.083333</td>\n",
       "      <td>0.000000</td>\n",
       "      <td>0.000000</td>\n",
       "      <td>0</td>\n",
       "      <td>1</td>\n",
       "      <td>1200.0</td>\n",
       "      <td>678.334763</td>\n",
       "      <td>244.791237</td>\n",
       "      <td>0.000000</td>\n",
       "      <td>12</td>\n",
       "    </tr>\n",
       "  </tbody>\n",
       "</table>\n",
       "</div>"
      ],
      "text/plain": [
       "             BALANCE  BALANCE_FREQUENCY  PURCHASES  ONEOFF_PURCHASES  \\\n",
       "CUST_ID                                                                \n",
       "C10001     40.900749           0.818182      95.40              0.00   \n",
       "C10002   3202.467416           0.909091       0.00              0.00   \n",
       "C10003   2495.148862           1.000000     773.17            773.17   \n",
       "C10004   1666.670542           0.636364    1499.00           1499.00   \n",
       "C10005    817.714335           1.000000      16.00             16.00   \n",
       "\n",
       "         INSTALLMENTS_PURCHASES  CASH_ADVANCE  PURCHASES_FREQUENCY  \\\n",
       "CUST_ID                                                              \n",
       "C10001                     95.4      0.000000             0.166667   \n",
       "C10002                      0.0   6442.945483             0.000000   \n",
       "C10003                      0.0      0.000000             1.000000   \n",
       "C10004                      0.0    205.788017             0.083333   \n",
       "C10005                      0.0      0.000000             0.083333   \n",
       "\n",
       "         ONEOFF_PURCHASES_FREQUENCY  PURCHASES_INSTALLMENTS_FREQUENCY  \\\n",
       "CUST_ID                                                                 \n",
       "C10001                     0.000000                          0.083333   \n",
       "C10002                     0.000000                          0.000000   \n",
       "C10003                     1.000000                          0.000000   \n",
       "C10004                     0.083333                          0.000000   \n",
       "C10005                     0.083333                          0.000000   \n",
       "\n",
       "         CASH_ADVANCE_FREQUENCY  CASH_ADVANCE_TRX  PURCHASES_TRX  \\\n",
       "CUST_ID                                                            \n",
       "C10001                 0.000000                 0              2   \n",
       "C10002                 0.250000                 4              0   \n",
       "C10003                 0.000000                 0             12   \n",
       "C10004                 0.083333                 1              1   \n",
       "C10005                 0.000000                 0              1   \n",
       "\n",
       "         CREDIT_LIMIT     PAYMENTS  MINIMUM_PAYMENTS  PRC_FULL_PAYMENT  TENURE  \n",
       "CUST_ID                                                                         \n",
       "C10001         1000.0   201.802084        139.509787          0.000000      12  \n",
       "C10002         7000.0  4103.032597       1072.340217          0.222222      12  \n",
       "C10003         7500.0   622.066742        627.284787          0.000000      12  \n",
       "C10004         7500.0     0.000000               NaN          0.000000      12  \n",
       "C10005         1200.0   678.334763        244.791237          0.000000      12  "
      ]
     },
     "execution_count": 8,
     "metadata": {},
     "output_type": "execute_result"
    }
   ],
   "source": [
    "data.head()"
   ]
  },
  {
   "cell_type": "code",
   "execution_count": 9,
   "id": "f1a5fb54",
   "metadata": {
    "colab": {
     "base_uri": "https://localhost:8080/"
    },
    "id": "f1a5fb54",
    "outputId": "9bb43c6e-155f-4e37-87a4-8ee0f7d85fdd"
   },
   "outputs": [
    {
     "name": "stdout",
     "output_type": "stream",
     "text": [
      "<class 'pandas.core.frame.DataFrame'>\n",
      "Index: 8950 entries, C10001 to C19190\n",
      "Data columns (total 17 columns):\n",
      " #   Column                            Non-Null Count  Dtype  \n",
      "---  ------                            --------------  -----  \n",
      " 0   BALANCE                           8950 non-null   float64\n",
      " 1   BALANCE_FREQUENCY                 8950 non-null   float64\n",
      " 2   PURCHASES                         8950 non-null   float64\n",
      " 3   ONEOFF_PURCHASES                  8950 non-null   float64\n",
      " 4   INSTALLMENTS_PURCHASES            8950 non-null   float64\n",
      " 5   CASH_ADVANCE                      8950 non-null   float64\n",
      " 6   PURCHASES_FREQUENCY               8950 non-null   float64\n",
      " 7   ONEOFF_PURCHASES_FREQUENCY        8950 non-null   float64\n",
      " 8   PURCHASES_INSTALLMENTS_FREQUENCY  8950 non-null   float64\n",
      " 9   CASH_ADVANCE_FREQUENCY            8950 non-null   float64\n",
      " 10  CASH_ADVANCE_TRX                  8950 non-null   int64  \n",
      " 11  PURCHASES_TRX                     8950 non-null   int64  \n",
      " 12  CREDIT_LIMIT                      8949 non-null   float64\n",
      " 13  PAYMENTS                          8950 non-null   float64\n",
      " 14  MINIMUM_PAYMENTS                  8637 non-null   float64\n",
      " 15  PRC_FULL_PAYMENT                  8950 non-null   float64\n",
      " 16  TENURE                            8950 non-null   int64  \n",
      "dtypes: float64(14), int64(3)\n",
      "memory usage: 1.2+ MB\n"
     ]
    }
   ],
   "source": [
    "data.info()"
   ]
  },
  {
   "cell_type": "code",
   "execution_count": 10,
   "id": "58f55763",
   "metadata": {
    "colab": {
     "base_uri": "https://localhost:8080/",
     "height": 364
    },
    "id": "58f55763",
    "outputId": "0e591510-9e1e-48be-f654-9f4f925a0f22",
    "scrolled": true
   },
   "outputs": [
    {
     "data": {
      "text/html": [
       "<div>\n",
       "<style scoped>\n",
       "    .dataframe tbody tr th:only-of-type {\n",
       "        vertical-align: middle;\n",
       "    }\n",
       "\n",
       "    .dataframe tbody tr th {\n",
       "        vertical-align: top;\n",
       "    }\n",
       "\n",
       "    .dataframe thead th {\n",
       "        text-align: right;\n",
       "    }\n",
       "</style>\n",
       "<table border=\"1\" class=\"dataframe\">\n",
       "  <thead>\n",
       "    <tr style=\"text-align: right;\">\n",
       "      <th></th>\n",
       "      <th>BALANCE</th>\n",
       "      <th>BALANCE_FREQUENCY</th>\n",
       "      <th>PURCHASES</th>\n",
       "      <th>ONEOFF_PURCHASES</th>\n",
       "      <th>INSTALLMENTS_PURCHASES</th>\n",
       "      <th>CASH_ADVANCE</th>\n",
       "      <th>PURCHASES_FREQUENCY</th>\n",
       "      <th>ONEOFF_PURCHASES_FREQUENCY</th>\n",
       "      <th>PURCHASES_INSTALLMENTS_FREQUENCY</th>\n",
       "      <th>CASH_ADVANCE_FREQUENCY</th>\n",
       "      <th>CASH_ADVANCE_TRX</th>\n",
       "      <th>PURCHASES_TRX</th>\n",
       "      <th>CREDIT_LIMIT</th>\n",
       "      <th>PAYMENTS</th>\n",
       "      <th>MINIMUM_PAYMENTS</th>\n",
       "      <th>PRC_FULL_PAYMENT</th>\n",
       "      <th>TENURE</th>\n",
       "    </tr>\n",
       "  </thead>\n",
       "  <tbody>\n",
       "    <tr>\n",
       "      <th>count</th>\n",
       "      <td>8950.000000</td>\n",
       "      <td>8950.000000</td>\n",
       "      <td>8950.000000</td>\n",
       "      <td>8950.000000</td>\n",
       "      <td>8950.000000</td>\n",
       "      <td>8950.000000</td>\n",
       "      <td>8950.000000</td>\n",
       "      <td>8950.000000</td>\n",
       "      <td>8950.000000</td>\n",
       "      <td>8950.000000</td>\n",
       "      <td>8950.000000</td>\n",
       "      <td>8950.000000</td>\n",
       "      <td>8949.000000</td>\n",
       "      <td>8950.000000</td>\n",
       "      <td>8637.000000</td>\n",
       "      <td>8950.000000</td>\n",
       "      <td>8950.000000</td>\n",
       "    </tr>\n",
       "    <tr>\n",
       "      <th>mean</th>\n",
       "      <td>1564.474828</td>\n",
       "      <td>0.877271</td>\n",
       "      <td>1003.204834</td>\n",
       "      <td>592.437371</td>\n",
       "      <td>411.067645</td>\n",
       "      <td>978.871112</td>\n",
       "      <td>0.490351</td>\n",
       "      <td>0.202458</td>\n",
       "      <td>0.364437</td>\n",
       "      <td>0.135144</td>\n",
       "      <td>3.248827</td>\n",
       "      <td>14.709832</td>\n",
       "      <td>4494.449450</td>\n",
       "      <td>1733.143852</td>\n",
       "      <td>864.206542</td>\n",
       "      <td>0.153715</td>\n",
       "      <td>11.517318</td>\n",
       "    </tr>\n",
       "    <tr>\n",
       "      <th>std</th>\n",
       "      <td>2081.531879</td>\n",
       "      <td>0.236904</td>\n",
       "      <td>2136.634782</td>\n",
       "      <td>1659.887917</td>\n",
       "      <td>904.338115</td>\n",
       "      <td>2097.163877</td>\n",
       "      <td>0.401371</td>\n",
       "      <td>0.298336</td>\n",
       "      <td>0.397448</td>\n",
       "      <td>0.200121</td>\n",
       "      <td>6.824647</td>\n",
       "      <td>24.857649</td>\n",
       "      <td>3638.815725</td>\n",
       "      <td>2895.063757</td>\n",
       "      <td>2372.446607</td>\n",
       "      <td>0.292499</td>\n",
       "      <td>1.338331</td>\n",
       "    </tr>\n",
       "    <tr>\n",
       "      <th>min</th>\n",
       "      <td>0.000000</td>\n",
       "      <td>0.000000</td>\n",
       "      <td>0.000000</td>\n",
       "      <td>0.000000</td>\n",
       "      <td>0.000000</td>\n",
       "      <td>0.000000</td>\n",
       "      <td>0.000000</td>\n",
       "      <td>0.000000</td>\n",
       "      <td>0.000000</td>\n",
       "      <td>0.000000</td>\n",
       "      <td>0.000000</td>\n",
       "      <td>0.000000</td>\n",
       "      <td>50.000000</td>\n",
       "      <td>0.000000</td>\n",
       "      <td>0.019163</td>\n",
       "      <td>0.000000</td>\n",
       "      <td>6.000000</td>\n",
       "    </tr>\n",
       "    <tr>\n",
       "      <th>25%</th>\n",
       "      <td>128.281915</td>\n",
       "      <td>0.888889</td>\n",
       "      <td>39.635000</td>\n",
       "      <td>0.000000</td>\n",
       "      <td>0.000000</td>\n",
       "      <td>0.000000</td>\n",
       "      <td>0.083333</td>\n",
       "      <td>0.000000</td>\n",
       "      <td>0.000000</td>\n",
       "      <td>0.000000</td>\n",
       "      <td>0.000000</td>\n",
       "      <td>1.000000</td>\n",
       "      <td>1600.000000</td>\n",
       "      <td>383.276166</td>\n",
       "      <td>169.123707</td>\n",
       "      <td>0.000000</td>\n",
       "      <td>12.000000</td>\n",
       "    </tr>\n",
       "    <tr>\n",
       "      <th>50%</th>\n",
       "      <td>873.385231</td>\n",
       "      <td>1.000000</td>\n",
       "      <td>361.280000</td>\n",
       "      <td>38.000000</td>\n",
       "      <td>89.000000</td>\n",
       "      <td>0.000000</td>\n",
       "      <td>0.500000</td>\n",
       "      <td>0.083333</td>\n",
       "      <td>0.166667</td>\n",
       "      <td>0.000000</td>\n",
       "      <td>0.000000</td>\n",
       "      <td>7.000000</td>\n",
       "      <td>3000.000000</td>\n",
       "      <td>856.901546</td>\n",
       "      <td>312.343947</td>\n",
       "      <td>0.000000</td>\n",
       "      <td>12.000000</td>\n",
       "    </tr>\n",
       "    <tr>\n",
       "      <th>75%</th>\n",
       "      <td>2054.140036</td>\n",
       "      <td>1.000000</td>\n",
       "      <td>1110.130000</td>\n",
       "      <td>577.405000</td>\n",
       "      <td>468.637500</td>\n",
       "      <td>1113.821139</td>\n",
       "      <td>0.916667</td>\n",
       "      <td>0.300000</td>\n",
       "      <td>0.750000</td>\n",
       "      <td>0.222222</td>\n",
       "      <td>4.000000</td>\n",
       "      <td>17.000000</td>\n",
       "      <td>6500.000000</td>\n",
       "      <td>1901.134317</td>\n",
       "      <td>825.485459</td>\n",
       "      <td>0.142857</td>\n",
       "      <td>12.000000</td>\n",
       "    </tr>\n",
       "    <tr>\n",
       "      <th>max</th>\n",
       "      <td>19043.138560</td>\n",
       "      <td>1.000000</td>\n",
       "      <td>49039.570000</td>\n",
       "      <td>40761.250000</td>\n",
       "      <td>22500.000000</td>\n",
       "      <td>47137.211760</td>\n",
       "      <td>1.000000</td>\n",
       "      <td>1.000000</td>\n",
       "      <td>1.000000</td>\n",
       "      <td>1.500000</td>\n",
       "      <td>123.000000</td>\n",
       "      <td>358.000000</td>\n",
       "      <td>30000.000000</td>\n",
       "      <td>50721.483360</td>\n",
       "      <td>76406.207520</td>\n",
       "      <td>1.000000</td>\n",
       "      <td>12.000000</td>\n",
       "    </tr>\n",
       "  </tbody>\n",
       "</table>\n",
       "</div>"
      ],
      "text/plain": [
       "            BALANCE  BALANCE_FREQUENCY     PURCHASES  ONEOFF_PURCHASES  \\\n",
       "count   8950.000000        8950.000000   8950.000000       8950.000000   \n",
       "mean    1564.474828           0.877271   1003.204834        592.437371   \n",
       "std     2081.531879           0.236904   2136.634782       1659.887917   \n",
       "min        0.000000           0.000000      0.000000          0.000000   \n",
       "25%      128.281915           0.888889     39.635000          0.000000   \n",
       "50%      873.385231           1.000000    361.280000         38.000000   \n",
       "75%     2054.140036           1.000000   1110.130000        577.405000   \n",
       "max    19043.138560           1.000000  49039.570000      40761.250000   \n",
       "\n",
       "       INSTALLMENTS_PURCHASES  CASH_ADVANCE  PURCHASES_FREQUENCY  \\\n",
       "count             8950.000000   8950.000000          8950.000000   \n",
       "mean               411.067645    978.871112             0.490351   \n",
       "std                904.338115   2097.163877             0.401371   \n",
       "min                  0.000000      0.000000             0.000000   \n",
       "25%                  0.000000      0.000000             0.083333   \n",
       "50%                 89.000000      0.000000             0.500000   \n",
       "75%                468.637500   1113.821139             0.916667   \n",
       "max              22500.000000  47137.211760             1.000000   \n",
       "\n",
       "       ONEOFF_PURCHASES_FREQUENCY  PURCHASES_INSTALLMENTS_FREQUENCY  \\\n",
       "count                 8950.000000                       8950.000000   \n",
       "mean                     0.202458                          0.364437   \n",
       "std                      0.298336                          0.397448   \n",
       "min                      0.000000                          0.000000   \n",
       "25%                      0.000000                          0.000000   \n",
       "50%                      0.083333                          0.166667   \n",
       "75%                      0.300000                          0.750000   \n",
       "max                      1.000000                          1.000000   \n",
       "\n",
       "       CASH_ADVANCE_FREQUENCY  CASH_ADVANCE_TRX  PURCHASES_TRX  CREDIT_LIMIT  \\\n",
       "count             8950.000000       8950.000000    8950.000000   8949.000000   \n",
       "mean                 0.135144          3.248827      14.709832   4494.449450   \n",
       "std                  0.200121          6.824647      24.857649   3638.815725   \n",
       "min                  0.000000          0.000000       0.000000     50.000000   \n",
       "25%                  0.000000          0.000000       1.000000   1600.000000   \n",
       "50%                  0.000000          0.000000       7.000000   3000.000000   \n",
       "75%                  0.222222          4.000000      17.000000   6500.000000   \n",
       "max                  1.500000        123.000000     358.000000  30000.000000   \n",
       "\n",
       "           PAYMENTS  MINIMUM_PAYMENTS  PRC_FULL_PAYMENT       TENURE  \n",
       "count   8950.000000       8637.000000       8950.000000  8950.000000  \n",
       "mean    1733.143852        864.206542          0.153715    11.517318  \n",
       "std     2895.063757       2372.446607          0.292499     1.338331  \n",
       "min        0.000000          0.019163          0.000000     6.000000  \n",
       "25%      383.276166        169.123707          0.000000    12.000000  \n",
       "50%      856.901546        312.343947          0.000000    12.000000  \n",
       "75%     1901.134317        825.485459          0.142857    12.000000  \n",
       "max    50721.483360      76406.207520          1.000000    12.000000  "
      ]
     },
     "execution_count": 10,
     "metadata": {},
     "output_type": "execute_result"
    }
   ],
   "source": [
    "data.describe()"
   ]
  },
  {
   "cell_type": "code",
   "execution_count": 11,
   "id": "da165673",
   "metadata": {
    "id": "da165673"
   },
   "outputs": [],
   "source": [
    "data_copy = data.copy()"
   ]
  },
  {
   "cell_type": "markdown",
   "id": "1X8jKHL-NBZc",
   "metadata": {
    "id": "1X8jKHL-NBZc"
   },
   "source": [
    "### i choosed to fill data with median"
   ]
  },
  {
   "cell_type": "code",
   "execution_count": 12,
   "id": "bb843e78",
   "metadata": {
    "id": "bb843e78",
    "scrolled": false
   },
   "outputs": [],
   "source": [
    "data_copy['MINIMUM_PAYMENTS'].fillna(data_copy['MINIMUM_PAYMENTS'].median(), inplace = True)"
   ]
  },
  {
   "cell_type": "code",
   "execution_count": 13,
   "id": "7edc3701",
   "metadata": {
    "id": "7edc3701"
   },
   "outputs": [],
   "source": [
    "data_copy['CREDIT_LIMIT'].fillna(data_copy['CREDIT_LIMIT'].median(), inplace = True)"
   ]
  },
  {
   "cell_type": "code",
   "execution_count": 14,
   "id": "b1997b7c",
   "metadata": {
    "colab": {
     "base_uri": "https://localhost:8080/"
    },
    "id": "b1997b7c",
    "outputId": "4173ad89-63f0-4098-e245-ae7e6a20b51e"
   },
   "outputs": [
    {
     "name": "stdout",
     "output_type": "stream",
     "text": [
      "<class 'pandas.core.frame.DataFrame'>\n",
      "Index: 8950 entries, C10001 to C19190\n",
      "Data columns (total 17 columns):\n",
      " #   Column                            Non-Null Count  Dtype  \n",
      "---  ------                            --------------  -----  \n",
      " 0   BALANCE                           8950 non-null   float64\n",
      " 1   BALANCE_FREQUENCY                 8950 non-null   float64\n",
      " 2   PURCHASES                         8950 non-null   float64\n",
      " 3   ONEOFF_PURCHASES                  8950 non-null   float64\n",
      " 4   INSTALLMENTS_PURCHASES            8950 non-null   float64\n",
      " 5   CASH_ADVANCE                      8950 non-null   float64\n",
      " 6   PURCHASES_FREQUENCY               8950 non-null   float64\n",
      " 7   ONEOFF_PURCHASES_FREQUENCY        8950 non-null   float64\n",
      " 8   PURCHASES_INSTALLMENTS_FREQUENCY  8950 non-null   float64\n",
      " 9   CASH_ADVANCE_FREQUENCY            8950 non-null   float64\n",
      " 10  CASH_ADVANCE_TRX                  8950 non-null   int64  \n",
      " 11  PURCHASES_TRX                     8950 non-null   int64  \n",
      " 12  CREDIT_LIMIT                      8950 non-null   float64\n",
      " 13  PAYMENTS                          8950 non-null   float64\n",
      " 14  MINIMUM_PAYMENTS                  8950 non-null   float64\n",
      " 15  PRC_FULL_PAYMENT                  8950 non-null   float64\n",
      " 16  TENURE                            8950 non-null   int64  \n",
      "dtypes: float64(14), int64(3)\n",
      "memory usage: 1.2+ MB\n"
     ]
    }
   ],
   "source": [
    "data_copy.info()"
   ]
  },
  {
   "cell_type": "code",
   "execution_count": 15,
   "id": "1da3802d",
   "metadata": {
    "colab": {
     "base_uri": "https://localhost:8080/"
    },
    "id": "1da3802d",
    "outputId": "2b2fbc0f-2ee7-4ff1-86f1-a2eed6d71dc3"
   },
   "outputs": [
    {
     "data": {
      "text/plain": [
       "0"
      ]
     },
     "execution_count": 15,
     "metadata": {},
     "output_type": "execute_result"
    }
   ],
   "source": [
    "data_copy.isnull().sum().sum()"
   ]
  },
  {
   "cell_type": "code",
   "execution_count": 13,
   "id": "14fc6e93",
   "metadata": {
    "colab": {
     "base_uri": "https://localhost:8080/",
     "height": 4237
    },
    "id": "14fc6e93",
    "outputId": "c8a4e926-aaca-4f96-8537-4c10f99f97c6"
   },
   "outputs": [
    {
     "data": {
      "image/png": "[encoded data removed]",
      "text/plain": [
       "<Figure size 432x288 with 1 Axes>"
      ]
     },
     "metadata": {
      "needs_background": "light"
     },
     "output_type": "display_data"
    },
    {
     "data": {
      "image/png": "[encoded data removed]",
      "text/plain": [
       "<Figure size 432x288 with 1 Axes>"
      ]
     },
     "metadata": {
      "needs_background": "light"
     },
     "output_type": "display_data"
    },
    {
     "data": {
      "image/png": "[encoded data removed]",
      "text/plain": [
       "<Figure size 432x288 with 1 Axes>"
      ]
     },
     "metadata": {
      "needs_background": "light"
     },
     "output_type": "display_data"
    },
    {
     "data": {
      "image/png": "[encoded data removed]",
      "text/plain": [
       "<Figure size 432x288 with 1 Axes>"
      ]
     },
     "metadata": {
      "needs_background": "light"
     },
     "output_type": "display_data"
    },
    {
     "data": {
      "image/png": "[encoded data removed]",
      "text/plain": [
       "<Figure size 432x288 with 1 Axes>"
      ]
     },
     "metadata": {
      "needs_background": "light"
     },
     "output_type": "display_data"
    },
    {
     "data": {
      "image/png": "[encoded data removed]",
      "text/plain": [
       "<Figure size 432x288 with 1 Axes>"
      ]
     },
     "metadata": {
      "needs_background": "light"
     },
     "output_type": "display_data"
    },
    {
     "data": {
      "image/png": "[encoded data removed]",
      "text/plain": [
       "<Figure size 432x288 with 1 Axes>"
      ]
     },
     "metadata": {
      "needs_background": "light"
     },
     "output_type": "display_data"
    },
    {
     "data": {
      "image/png": "[encoded data removed]",
      "text/plain": [
       "<Figure size 432x288 with 1 Axes>"
      ]
     },
     "metadata": {
      "needs_background": "light"
     },
     "output_type": "display_data"
    },
    {
     "data": {
      "image/png": "[encoded data removed]",
      "text/plain": [
       "<Figure size 432x288 with 1 Axes>"
      ]
     },
     "metadata": {
      "needs_background": "light"
     },
     "output_type": "display_data"
    },
    {
     "data": {
      "image/png": "[encoded data removed]",
      "text/plain": [
       "<Figure size 432x288 with 1 Axes>"
      ]
     },
     "metadata": {
      "needs_background": "light"
     },
     "output_type": "display_data"
    },
    {
     "data": {
      "image/png": "[encoded data removed]",
      "text/plain": [
       "<Figure size 432x288 with 1 Axes>"
      ]
     },
     "metadata": {
      "needs_background": "light"
     },
     "output_type": "display_data"
    },
    {
     "data": {
      "image/png": "[encoded data removed]",
      "text/plain": [
       "<Figure size 432x288 with 1 Axes>"
      ]
     },
     "metadata": {
      "needs_background": "light"
     },
     "output_type": "display_data"
    },
    {
     "data": {
      "image/png": "[encoded data removed]",
      "text/plain": [
       "<Figure size 432x288 with 1 Axes>"
      ]
     },
     "metadata": {
      "needs_background": "light"
     },
     "output_type": "display_data"
    },
    {
     "data": {
      "image/png": "[encoded data removed]",
      "text/plain": [
       "<Figure size 432x288 with 1 Axes>"
      ]
     },
     "metadata": {
      "needs_background": "light"
     },
     "output_type": "display_data"
    },
    {
     "data": {
      "image/png": "[encoded data removed]",
      "text/plain": [
       "<Figure size 432x288 with 1 Axes>"
      ]
     },
     "metadata": {
      "needs_background": "light"
     },
     "output_type": "display_data"
    },
    {
     "data": {
      "image/png": "[encoded data removed]",
      "text/plain": [
       "<Figure size 432x288 with 1 Axes>"
      ]
     },
     "metadata": {
      "needs_background": "light"
     },
     "output_type": "display_data"
    },
    {
     "data": {
      "image/png": "[encoded data removed]",
      "text/plain": [
       "<Figure size 432x288 with 1 Axes>"
      ]
     },
     "metadata": {
      "needs_background": "light"
     },
     "output_type": "display_data"
    }
   ],
   "source": [
    "for col in data_copy.columns:\n",
    "    plt.hist(data_copy[col])\n",
    "    plt.show()"
   ]
  },
  {
   "cell_type": "markdown",
   "id": "mFjHQZebN7XY",
   "metadata": {
    "id": "mFjHQZebN7XY"
   },
   "source": [
    "### majority of data has right skewed so i used Standard scaler to normalize data as outliers may be important to data informartion"
   ]
  },
  {
   "cell_type": "code",
   "execution_count": 16,
   "id": "79f92fe6",
   "metadata": {
    "id": "79f92fe6"
   },
   "outputs": [],
   "source": [
    "data_norm = StandardScaler().fit_transform(data_copy)"
   ]
  },
  {
   "cell_type": "code",
   "execution_count": 17,
   "id": "yPIbH7NIv0j4",
   "metadata": {
    "colab": {
     "base_uri": "https://localhost:8080/",
     "height": 206
    },
    "id": "yPIbH7NIv0j4",
    "outputId": "1e199f8c-4625-4eb9-95e7-b25aac9b3851"
   },
   "outputs": [
    {
     "data": {
      "text/html": [
       "<div>\n",
       "<style scoped>\n",
       "    .dataframe tbody tr th:only-of-type {\n",
       "        vertical-align: middle;\n",
       "    }\n",
       "\n",
       "    .dataframe tbody tr th {\n",
       "        vertical-align: top;\n",
       "    }\n",
       "\n",
       "    .dataframe thead th {\n",
       "        text-align: right;\n",
       "    }\n",
       "</style>\n",
       "<table border=\"1\" class=\"dataframe\">\n",
       "  <thead>\n",
       "    <tr style=\"text-align: right;\">\n",
       "      <th></th>\n",
       "      <th>0</th>\n",
       "      <th>1</th>\n",
       "      <th>2</th>\n",
       "      <th>3</th>\n",
       "      <th>4</th>\n",
       "      <th>5</th>\n",
       "      <th>6</th>\n",
       "      <th>7</th>\n",
       "      <th>8</th>\n",
       "      <th>9</th>\n",
       "      <th>10</th>\n",
       "      <th>11</th>\n",
       "      <th>12</th>\n",
       "      <th>13</th>\n",
       "      <th>14</th>\n",
       "      <th>15</th>\n",
       "      <th>16</th>\n",
       "    </tr>\n",
       "  </thead>\n",
       "  <tbody>\n",
       "    <tr>\n",
       "      <th>0</th>\n",
       "      <td>-0.731989</td>\n",
       "      <td>-0.249434</td>\n",
       "      <td>-0.424900</td>\n",
       "      <td>-0.356934</td>\n",
       "      <td>-0.349079</td>\n",
       "      <td>-0.466786</td>\n",
       "      <td>-0.806490</td>\n",
       "      <td>-0.678661</td>\n",
       "      <td>-0.707313</td>\n",
       "      <td>-0.675349</td>\n",
       "      <td>-0.476070</td>\n",
       "      <td>-0.511333</td>\n",
       "      <td>-0.960378</td>\n",
       "      <td>-0.528979</td>\n",
       "      <td>-0.302400</td>\n",
       "      <td>-0.525551</td>\n",
       "      <td>0.36068</td>\n",
       "    </tr>\n",
       "    <tr>\n",
       "      <th>1</th>\n",
       "      <td>0.786961</td>\n",
       "      <td>0.134325</td>\n",
       "      <td>-0.469552</td>\n",
       "      <td>-0.356934</td>\n",
       "      <td>-0.454576</td>\n",
       "      <td>2.605605</td>\n",
       "      <td>-1.221758</td>\n",
       "      <td>-0.678661</td>\n",
       "      <td>-0.916995</td>\n",
       "      <td>0.573963</td>\n",
       "      <td>0.110074</td>\n",
       "      <td>-0.591796</td>\n",
       "      <td>0.688678</td>\n",
       "      <td>0.818642</td>\n",
       "      <td>0.097500</td>\n",
       "      <td>0.234227</td>\n",
       "      <td>0.36068</td>\n",
       "    </tr>\n",
       "    <tr>\n",
       "      <th>2</th>\n",
       "      <td>0.447135</td>\n",
       "      <td>0.518084</td>\n",
       "      <td>-0.107668</td>\n",
       "      <td>0.108889</td>\n",
       "      <td>-0.454576</td>\n",
       "      <td>-0.466786</td>\n",
       "      <td>1.269843</td>\n",
       "      <td>2.673451</td>\n",
       "      <td>-0.916995</td>\n",
       "      <td>-0.675349</td>\n",
       "      <td>-0.476070</td>\n",
       "      <td>-0.109020</td>\n",
       "      <td>0.826100</td>\n",
       "      <td>-0.383805</td>\n",
       "      <td>-0.093293</td>\n",
       "      <td>-0.525551</td>\n",
       "      <td>0.36068</td>\n",
       "    </tr>\n",
       "    <tr>\n",
       "      <th>3</th>\n",
       "      <td>0.049099</td>\n",
       "      <td>-1.016953</td>\n",
       "      <td>0.232058</td>\n",
       "      <td>0.546189</td>\n",
       "      <td>-0.454576</td>\n",
       "      <td>-0.368653</td>\n",
       "      <td>-1.014125</td>\n",
       "      <td>-0.399319</td>\n",
       "      <td>-0.916995</td>\n",
       "      <td>-0.258913</td>\n",
       "      <td>-0.329534</td>\n",
       "      <td>-0.551565</td>\n",
       "      <td>0.826100</td>\n",
       "      <td>-0.598688</td>\n",
       "      <td>-0.228307</td>\n",
       "      <td>-0.525551</td>\n",
       "      <td>0.36068</td>\n",
       "    </tr>\n",
       "    <tr>\n",
       "      <th>4</th>\n",
       "      <td>-0.358775</td>\n",
       "      <td>0.518084</td>\n",
       "      <td>-0.462063</td>\n",
       "      <td>-0.347294</td>\n",
       "      <td>-0.454576</td>\n",
       "      <td>-0.466786</td>\n",
       "      <td>-1.014125</td>\n",
       "      <td>-0.399319</td>\n",
       "      <td>-0.916995</td>\n",
       "      <td>-0.675349</td>\n",
       "      <td>-0.476070</td>\n",
       "      <td>-0.551565</td>\n",
       "      <td>-0.905410</td>\n",
       "      <td>-0.364368</td>\n",
       "      <td>-0.257266</td>\n",
       "      <td>-0.525551</td>\n",
       "      <td>0.36068</td>\n",
       "    </tr>\n",
       "  </tbody>\n",
       "</table>\n",
       "</div>"
      ],
      "text/plain": [
       "         0         1         2         3         4         5         6   \\\n",
       "0 -0.731989 -0.249434 -0.424900 -0.356934 -0.349079 -0.466786 -0.806490   \n",
       "1  0.786961  0.134325 -0.469552 -0.356934 -0.454576  2.605605 -1.221758   \n",
       "2  0.447135  0.518084 -0.107668  0.108889 -0.454576 -0.466786  1.269843   \n",
       "3  0.049099 -1.016953  0.232058  0.546189 -0.454576 -0.368653 -1.014125   \n",
       "4 -0.358775  0.518084 -0.462063 -0.347294 -0.454576 -0.466786 -1.014125   \n",
       "\n",
       "         7         8         9         10        11        12        13  \\\n",
       "0 -0.678661 -0.707313 -0.675349 -0.476070 -0.511333 -0.960378 -0.528979   \n",
       "1 -0.678661 -0.916995  0.573963  0.110074 -0.591796  0.688678  0.818642   \n",
       "2  2.673451 -0.916995 -0.675349 -0.476070 -0.109020  0.826100 -0.383805   \n",
       "3 -0.399319 -0.916995 -0.258913 -0.329534 -0.551565  0.826100 -0.598688   \n",
       "4 -0.399319 -0.916995 -0.675349 -0.476070 -0.551565 -0.905410 -0.364368   \n",
       "\n",
       "         14        15       16  \n",
       "0 -0.302400 -0.525551  0.36068  \n",
       "1  0.097500  0.234227  0.36068  \n",
       "2 -0.093293 -0.525551  0.36068  \n",
       "3 -0.228307 -0.525551  0.36068  \n",
       "4 -0.257266 -0.525551  0.36068  "
      ]
     },
     "execution_count": 17,
     "metadata": {},
     "output_type": "execute_result"
    }
   ],
   "source": [
    "new = pd.DataFrame(data_norm)\n",
    "new.head()"
   ]
  },
  {
   "cell_type": "code",
   "execution_count": 16,
   "id": "-WQoXOoWwKdx",
   "metadata": {
    "colab": {
     "base_uri": "https://localhost:8080/",
     "height": 4237
    },
    "id": "-WQoXOoWwKdx",
    "outputId": "cbe3e4f0-ec71-49b8-d37a-8aeba56524b0"
   },
   "outputs": [
    {
     "data": {
      "image/png": "[encoded data removed]",
      "text/plain": [
       "<Figure size 432x288 with 1 Axes>"
      ]
     },
     "metadata": {
      "needs_background": "light"
     },
     "output_type": "display_data"
    },
    {
     "data": {
      "image/png": "[encoded data removed]",
      "text/plain": [
       "<Figure size 432x288 with 1 Axes>"
      ]
     },
     "metadata": {
      "needs_background": "light"
     },
     "output_type": "display_data"
    },
    {
     "data": {
      "image/png": "[encoded data removed]",
      "text/plain": [
       "<Figure size 432x288 with 1 Axes>"
      ]
     },
     "metadata": {
      "needs_background": "light"
     },
     "output_type": "display_data"
    },
    {
     "data": {
      "image/png": "[encoded data removed]",
      "text/plain": [
       "<Figure size 432x288 with 1 Axes>"
      ]
     },
     "metadata": {
      "needs_background": "light"
     },
     "output_type": "display_data"
    },
    {
     "data": {
      "image/png": "[encoded data removed]",
      "text/plain": [
       "<Figure size 432x288 with 1 Axes>"
      ]
     },
     "metadata": {
      "needs_background": "light"
     },
     "output_type": "display_data"
    },
    {
     "data": {
      "image/png": "[encoded data removed]",
      "text/plain": [
       "<Figure size 432x288 with 1 Axes>"
      ]
     },
     "metadata": {
      "needs_background": "light"
     },
     "output_type": "display_data"
    },
    {
     "data": {
      "image/png": "[encoded data removed]",
      "text/plain": [
       "<Figure size 432x288 with 1 Axes>"
      ]
     },
     "metadata": {
      "needs_background": "light"
     },
     "output_type": "display_data"
    },
    {
     "data": {
      "image/png": "[encoded data removed]",
      "text/plain": [
       "<Figure size 432x288 with 1 Axes>"
      ]
     },
     "metadata": {
      "needs_background": "light"
     },
     "output_type": "display_data"
    },
    {
     "data": {
      "image/png": "[encoded data removed]",
      "text/plain": [
       "<Figure size 432x288 with 1 Axes>"
      ]
     },
     "metadata": {
      "needs_background": "light"
     },
     "output_type": "display_data"
    },
    {
     "data": {
      "image/png": "[encoded data removed]",
      "text/plain": [
       "<Figure size 432x288 with 1 Axes>"
      ]
     },
     "metadata": {
      "needs_background": "light"
     },
     "output_type": "display_data"
    },
    {
     "data": {
      "image/png": "[encoded data removed]",
      "text/plain": [
       "<Figure size 432x288 with 1 Axes>"
      ]
     },
     "metadata": {
      "needs_background": "light"
     },
     "output_type": "display_data"
    },
    {
     "data": {
      "image/png": "[encoded data removed]",
      "text/plain": [
       "<Figure size 432x288 with 1 Axes>"
      ]
     },
     "metadata": {
      "needs_background": "light"
     },
     "output_type": "display_data"
    },
    {
     "data": {
      "image/png": "[encoded data removed]",
      "text/plain": [
       "<Figure size 432x288 with 1 Axes>"
      ]
     },
     "metadata": {
      "needs_background": "light"
     },
     "output_type": "display_data"
    },
    {
     "data": {
      "image/png": "[encoded data removed]",
      "text/plain": [
       "<Figure size 432x288 with 1 Axes>"
      ]
     },
     "metadata": {
      "needs_background": "light"
     },
     "output_type": "display_data"
    },
    {
     "data": {
      "image/png": "[encoded data removed]",
      "text/plain": [
       "<Figure size 432x288 with 1 Axes>"
      ]
     },
     "metadata": {
      "needs_background": "light"
     },
     "output_type": "display_data"
    },
    {
     "data": {
      "image/png": "[encoded data removed]",
      "text/plain": [
       "<Figure size 432x288 with 1 Axes>"
      ]
     },
     "metadata": {
      "needs_background": "light"
     },
     "output_type": "display_data"
    },
    {
     "data": {
      "image/png": "[encoded data removed]",
      "text/plain": [
       "<Figure size 432x288 with 1 Axes>"
      ]
     },
     "metadata": {
      "needs_background": "light"
     },
     "output_type": "display_data"
    }
   ],
   "source": [
    "for i in new.columns:\n",
    "    plt.hist(new[i])\n",
    "    plt.show()"
   ]
  },
  {
   "cell_type": "markdown",
   "id": "09fce4de",
   "metadata": {
    "id": "09fce4de"
   },
   "source": [
    "# KMeans"
   ]
  },
  {
   "cell_type": "code",
   "execution_count": 17,
   "id": "118bfb09",
   "metadata": {
    "colab": {
     "base_uri": "https://localhost:8080/",
     "height": 442
    },
    "id": "118bfb09",
    "outputId": "1b3a49f1-9ab1-4ecf-881e-689798af40fd"
   },
   "outputs": [
    {
     "data": {
      "image/png": "[encoded data removed]",
      "text/plain": [
       "<Figure size 720x504 with 1 Axes>"
      ]
     },
     "metadata": {
      "needs_background": "light"
     },
     "output_type": "display_data"
    }
   ],
   "source": [
    "sse = []\n",
    "for k in range(1, 11):\n",
    "    kmeans = KMeans(n_clusters=k)\n",
    "    kmeans.fit(data_norm)\n",
    "    sse.append(kmeans.inertia_)\n",
    "    \n",
    "plt.figure(figsize = (10,7))\n",
    "plt.plot(range(1, 11), sse)\n",
    "plt.xticks(range(1, 11))\n",
    "plt.xlabel(\"Number of Clusters\")\n",
    "plt.ylabel(\"SSE\")\n",
    "plt.show()"
   ]
  },
  {
   "cell_type": "code",
   "execution_count": 24,
   "id": "9443f05e",
   "metadata": {
    "colab": {
     "base_uri": "https://localhost:8080/"
    },
    "id": "9443f05e",
    "outputId": "8d5748a0-3b76-402b-e431-69ab46aee43a"
   },
   "outputs": [
    {
     "data": {
      "text/plain": [
       "(array([0, 1, 2]), array([1561, 6114, 1275], dtype=int64))"
      ]
     },
     "execution_count": 24,
     "metadata": {},
     "output_type": "execute_result"
    }
   ],
   "source": [
    "km = KMeans(n_clusters= 3).fit(data_norm)\n",
    "y = km.fit_predict(data_norm)\n",
    "silhouette_score(data_norm,y)\n",
    "np.unique(km.labels_, return_counts= True)"
   ]
  },
  {
   "cell_type": "markdown",
   "id": "3S0Z0AerOVkB",
   "metadata": {
    "id": "3S0Z0AerOVkB"
   },
   "source": [
    "### at first i used KMeans and choose number of clusters based on Elbow at 3 clusters \n"
   ]
  },
  {
   "cell_type": "markdown",
   "id": "cdef48ad",
   "metadata": {
    "id": "cdef48ad"
   },
   "source": [
    "# Hirarchical"
   ]
  },
  {
   "cell_type": "code",
   "execution_count": 19,
   "id": "ea50069c",
   "metadata": {
    "colab": {
     "base_uri": "https://localhost:8080/",
     "height": 268
    },
    "id": "ea50069c",
    "outputId": "448594cd-9a2b-4c49-c183-eb84a1f8b75b"
   },
   "outputs": [
    {
     "data": {
      "image/png": "[encoded data removed]",
      "text/plain": [
       "<Figure size 1440x1080 with 1 Axes>"
      ]
     },
     "metadata": {
      "needs_background": "light"
     },
     "output_type": "display_data"
    }
   ],
   "source": [
    "import scipy.cluster.hierarchy as shc\n",
    "\n",
    "plt.figure(figsize=(20, 15))\n",
    "#plt.title(\"Counters Dendograms\")\n",
    "dend = shc.dendrogram(shc.linkage(y=data_norm, method=\"complete\",metric='euclidean'),orientation='top') #fill y with your dataframe\n",
    "                                                                                      #and method with linkage criteria\n",
    "                                                                                      #and metric with distance function"
   ]
  },
  {
   "cell_type": "code",
   "execution_count": 21,
   "id": "f2df5710",
   "metadata": {},
   "outputs": [],
   "source": [
    "from sklearn.cluster import AgglomerativeClustering"
   ]
  },
  {
   "cell_type": "code",
   "execution_count": null,
   "id": "wGV6ASOMnI7G",
   "metadata": {
    "colab": {
     "base_uri": "https://localhost:8080/"
    },
    "id": "wGV6ASOMnI7G",
    "outputId": "3f822c71-c95e-49fb-a07e-c4477a66c883"
   },
   "outputs": [
    {
     "data": {
      "text/plain": [
       "[[2, 0.19210277656035374],\n",
       " [3, 0.1674469835551831],\n",
       " [4, 0.15978366986218748],\n",
       " [5, 0.17625723552382333],\n",
       " [6, 0.15927727217610124],\n",
       " [7, 0.16173398544339443],\n",
       " [8, 0.1608571104881932],\n",
       " [9, 0.16681499088780727]]"
      ]
     },
     "execution_count": 20,
     "metadata": {},
     "output_type": "execute_result"
    }
   ],
   "source": [
    "from sklearn.cluster import AgglomerativeClustering\n",
    "scores = []\n",
    "for n in range(2, 10):\n",
    "    model = AgglomerativeClustering(n_clusters=n) #3,2\n",
    "    y=model.fit_predict(data_norm)\n",
    "\n",
    "    scores.append([n,silhouette_score(data_norm,y)])\n",
    "\n",
    "scores"
   ]
  },
  {
   "cell_type": "markdown",
   "id": "ICR2NG5_apmb",
   "metadata": {
    "id": "ICR2NG5_apmb"
   },
   "source": [
    "## best silhouette score at number of clusters is 3 and 2"
   ]
  },
  {
   "cell_type": "code",
   "execution_count": null,
   "id": "VqmuuqDKSRSA",
   "metadata": {
    "colab": {
     "base_uri": "https://localhost:8080/"
    },
    "id": "VqmuuqDKSRSA",
    "outputId": "ce67f87c-38c6-40d7-a68c-9cd1475f12e3"
   },
   "outputs": [
    {
     "name": "stdout",
     "output_type": "stream",
     "text": [
      "silhouette_score 0.19210277656035374\n"
     ]
    },
    {
     "data": {
      "text/plain": [
       "(array([0, 1]), array([6069, 2881]))"
      ]
     },
     "execution_count": 21,
     "metadata": {},
     "output_type": "execute_result"
    }
   ],
   "source": [
    "model = AgglomerativeClustering(n_clusters=2) #3,2\n",
    "y=model.fit_predict(data_norm)\n",
    "\n",
    "print(\"silhouette_score\", silhouette_score(data_norm,y))\n",
    "\n",
    "np.unique(model.labels_, return_counts= True)"
   ]
  },
  {
   "cell_type": "code",
   "execution_count": 22,
   "id": "PKNm3C5EFrlV",
   "metadata": {
    "colab": {
     "base_uri": "https://localhost:8080/"
    },
    "id": "PKNm3C5EFrlV",
    "outputId": "c9565c97-1828-4f7b-f3e0-b8e26434f56b"
   },
   "outputs": [
    {
     "name": "stdout",
     "output_type": "stream",
     "text": [
      "silhouette_score 0.17625723552382333\n"
     ]
    },
    {
     "data": {
      "text/plain": [
       "(array([0, 1, 2, 3, 4], dtype=int64),\n",
       " array([4093,  300, 1194, 2581,  782], dtype=int64))"
      ]
     },
     "execution_count": 22,
     "metadata": {},
     "output_type": "execute_result"
    }
   ],
   "source": [
    "model = AgglomerativeClustering(n_clusters=5) #3,2\n",
    "y=model.fit_predict(data_norm)\n",
    "\n",
    "print(\"silhouette_score\", silhouette_score(data_norm,y))\n",
    "\n",
    "np.unique(model.labels_, return_counts= True)"
   ]
  },
  {
   "cell_type": "code",
   "execution_count": null,
   "id": "iG8tgKY_STOs",
   "metadata": {
    "colab": {
     "base_uri": "https://localhost:8080/"
    },
    "id": "iG8tgKY_STOs",
    "outputId": "61239548-d494-452b-9302-2c120d197b86"
   },
   "outputs": [
    {
     "name": "stdout",
     "output_type": "stream",
     "text": [
      "silhouette_score 0.15978366986218748\n"
     ]
    },
    {
     "data": {
      "text/plain": [
       "(array([0, 1, 2, 3]), array([4875,  300, 1194, 2581]))"
      ]
     },
     "execution_count": 23,
     "metadata": {},
     "output_type": "execute_result"
    }
   ],
   "source": [
    "model = AgglomerativeClustering(n_clusters=4) #3,2\n",
    "y=model.fit_predict(data_norm)\n",
    "\n",
    "print(\"silhouette_score\", silhouette_score(data_norm,y))\n",
    "\n",
    "np.unique(model.labels_, return_counts= True)"
   ]
  },
  {
   "cell_type": "markdown",
   "id": "DybwFtfOR4RG",
   "metadata": {
    "id": "DybwFtfOR4RG"
   },
   "source": [
    "### after some trials, the best choice is 3 clusters. it is better based on number of points in each cluster"
   ]
  },
  {
   "cell_type": "markdown",
   "id": "326a273b",
   "metadata": {
    "id": "326a273b"
   },
   "source": [
    "# DBSCAN"
   ]
  },
  {
   "cell_type": "code",
   "execution_count": null,
   "id": "GTiYqNLSqOPJ",
   "metadata": {
    "colab": {
     "base_uri": "https://localhost:8080/"
    },
    "id": "GTiYqNLSqOPJ",
    "outputId": "4f2a48dc-5704-4de7-f99a-5cedda0ad8ef"
   },
   "outputs": [
    {
     "data": {
      "text/plain": [
       "array([[0.        , 0.38472083, 0.46082212, ..., 0.89049222, 0.89242101,\n",
       "        0.8928221 ],\n",
       "       [0.        , 1.25818996, 1.34202417, ..., 1.84808176, 1.86957896,\n",
       "        1.90207425],\n",
       "       [0.        , 0.40460086, 0.66742355, ..., 1.27746313, 1.28691314,\n",
       "        1.28872359],\n",
       "       ...,\n",
       "       [0.        , 0.9200107 , 0.9294804 , ..., 1.43649493, 1.45777999,\n",
       "        1.48935513],\n",
       "       [0.        , 1.11853639, 1.13335332, ..., 1.70081845, 1.7122772 ,\n",
       "        1.71239672],\n",
       "       [0.        , 1.48408941, 1.48652552, ..., 2.6519651 , 2.67138854,\n",
       "        2.67536277]])"
      ]
     },
     "execution_count": 24,
     "metadata": {},
     "output_type": "execute_result"
    }
   ],
   "source": [
    "mins = 36\n",
    "nn = NearestNeighbors(n_neighbors= (mins + 1))\n",
    "\n",
    "nn.fit(data_norm)\n",
    "\n",
    "distances, neighbors = nn.kneighbors(data_norm)\n",
    "\n",
    "distances"
   ]
  },
  {
   "cell_type": "code",
   "execution_count": null,
   "id": "n0IVcI23qOIz",
   "metadata": {
    "id": "n0IVcI23qOIz"
   },
   "outputs": [],
   "source": [
    "# sort the distances\n",
    "distances = np.sort(distances[:, mins], axis = 0)"
   ]
  },
  {
   "cell_type": "code",
   "execution_count": null,
   "id": "ZjsvwbK8qN-0",
   "metadata": {
    "colab": {
     "base_uri": "https://localhost:8080/",
     "height": 541
    },
    "id": "ZjsvwbK8qN-0",
    "outputId": "095c936d-a6ba-4ee1-dbca-9d36266fa016"
   },
   "outputs": [
    {
     "name": "stderr",
     "output_type": "stream",
     "text": [
      "/usr/local/lib/python3.8/dist-packages/plotnine/ggplot.py:719: PlotnineWarning: Saving 6.4 x 4.8 in image.\n",
      "/usr/local/lib/python3.8/dist-packages/plotnine/ggplot.py:722: PlotnineWarning: Filename: elbow.png\n"
     ]
    },
    {
     "data": {
      "image/png": "[encoded data removed]",
      "text/plain": [
       "<Figure size 640x480 with 1 Axes>"
      ]
     },
     "metadata": {},
     "output_type": "display_data"
    },
    {
     "data": {
      "text/plain": [
       "<ggplot: (8727982120186)>"
      ]
     },
     "execution_count": 26,
     "metadata": {},
     "output_type": "execute_result"
    }
   ],
   "source": [
    "#plot the distances\n",
    "distances_df = pd.DataFrame({\"distances\": distances,\n",
    "                             \"index\": list(range(0,len(distances)))})\n",
    "plt = (ggplot(distances_df, aes(x = \"index\", y = \"distances\")) +\n",
    " geom_line(color = \"white\", size = 2) + theme_minimal() +\n",
    " labs(title = \"Elbow Method for Choosing eps\") +\n",
    " theme(panel_grid_minor = element_blank(),\n",
    "      rect = element_rect(fill = \"#202124ff\"),\n",
    "      axis_text = element_text(color = \"white\"),\n",
    "      axis_title = element_text(color = \"white\"),\n",
    "      plot_title = element_text(color = \"white\"),\n",
    "      panel_border = element_line(color = \"darkgray\"),\n",
    "      plot_background = element_rect(fill = \"#202124ff\")\n",
    "      ))\n",
    "ggsave(plot=plt, filename='elbow.png', dpi=300)\n",
    "\n",
    "plt"
   ]
  },
  {
   "cell_type": "code",
   "execution_count": null,
   "id": "0749f500",
   "metadata": {
    "colab": {
     "base_uri": "https://localhost:8080/"
    },
    "id": "0749f500",
    "outputId": "135ee84e-acc9-4b40-b3f0-64915b172a11"
   },
   "outputs": [
    {
     "name": "stdout",
     "output_type": "stream",
     "text": [
      "silhouette_score 0.5153611078631587\n"
     ]
    },
    {
     "data": {
      "text/plain": [
       "(array([-1,  0]), array([ 533, 8417]))"
      ]
     },
     "execution_count": 27,
     "metadata": {},
     "output_type": "execute_result"
    }
   ],
   "source": [
    "db = DBSCAN(eps = 2.5, min_samples = 35).fit(data_norm)\n",
    "y=db.fit_predict(data_norm)\n",
    "print('silhouette_score', silhouette_score(data_norm ,y))\n",
    "np.unique(db.labels_, return_counts= True)"
   ]
  },
  {
   "cell_type": "markdown",
   "id": "a9-0JKXiSc-K",
   "metadata": {
    "id": "a9-0JKXiSc-K"
   },
   "source": [
    "### based on Elbow diagram i tried many times to change values of epsilon and min_samples and i found it's not much better in clustering data as it cluster data to one cluster and other points as noise, i think it's not suitable to cluster data\n"
   ]
  },
  {
   "cell_type": "markdown",
   "id": "e6383725",
   "metadata": {
    "id": "e6383725"
   },
   "source": [
    "# Gaussian Mexture"
   ]
  },
  {
   "cell_type": "code",
   "execution_count": null,
   "id": "bdc52aee",
   "metadata": {
    "colab": {
     "base_uri": "https://localhost:8080/"
    },
    "id": "bdc52aee",
    "outputId": "1fe4133b-d9b9-41c7-e877-96c956bc51f5"
   },
   "outputs": [
    {
     "name": "stdout",
     "output_type": "stream",
     "text": [
      "0.11271496035605896\n"
     ]
    },
    {
     "data": {
      "text/plain": [
       "(array([0, 1, 2]), array([3963, 2816, 2171]))"
      ]
     },
     "execution_count": 28,
     "metadata": {},
     "output_type": "execute_result"
    }
   ],
   "source": [
    "gm = GaussianMixture(3)\n",
    "gm.fit(data_norm)\n",
    "y = gm.predict(data_norm)\n",
    "print(silhouette_score(data_norm, y))\n",
    "\n",
    "np.unique(y, return_counts= True)"
   ]
  },
  {
   "cell_type": "markdown",
   "id": "TLlIEQeJTxVK",
   "metadata": {
    "id": "TLlIEQeJTxVK"
   },
   "source": [
    "### actually i tried to use 2, 3 and 4 number of clusters but i found 3 no of clusters is more logic in clustering data "
   ]
  },
  {
   "cell_type": "markdown",
   "id": "PMhKrpX8aL6q",
   "metadata": {
    "id": "PMhKrpX8aL6q"
   },
   "source": [
    "# using PCA"
   ]
  },
  {
   "cell_type": "markdown",
   "id": "4BcP5X3FuEus",
   "metadata": {
    "id": "4BcP5X3FuEus"
   },
   "source": [
    "#### Hirarchical"
   ]
  },
  {
   "cell_type": "code",
   "execution_count": null,
   "id": "L-LhiD4xaOLz",
   "metadata": {
    "id": "L-LhiD4xaOLz"
   },
   "outputs": [],
   "source": [
    "from sklearn.decomposition import PCA\n",
    "scores = []\n",
    "for f in range(2,17):\n",
    "    pca = PCA(f).fit(data_norm)\n",
    "    df_pca = pca.transform(data_norm)\n",
    "    fitted = pd.DataFrame(df_pca)\n",
    "    fitted.head()\n",
    "\n",
    "    for n in range(2,5):\n",
    "        model = AgglomerativeClustering(n)\n",
    "        y=model.fit_predict(fitted)\n",
    "        scores.append([f,n,silhouette_score(fitted,y)])  \n",
    "#5-2, 9-2, 6-2, 4-2"
   ]
  },
  {
   "cell_type": "code",
   "execution_count": null,
   "id": "02c2_qPKaN-h",
   "metadata": {
    "colab": {
     "base_uri": "https://localhost:8080/"
    },
    "id": "02c2_qPKaN-h",
    "outputId": "bacb36f7-b875-4d06-8efb-f5abe02dc4b0"
   },
   "outputs": [
    {
     "data": {
      "text/plain": [
       "[[2, 2, 0.5739726239882592],\n",
       " [2, 3, 0.35925887004296647],\n",
       " [2, 4, 0.30362094879933627],\n",
       " [3, 2, 0.4367838471150095],\n",
       " [3, 3, 0.37594266823367756],\n",
       " [3, 4, 0.3184628226923642],\n",
       " [4, 2, 0.44209277397378993],\n",
       " [4, 3, 0.3668624859951843],\n",
       " [4, 4, 0.27651659447968036],\n",
       " [5, 2, 0.3607999186730306],\n",
       " [5, 3, 0.3033715445367285],\n",
       " [5, 4, 0.2179305132530671],\n",
       " [6, 2, 0.4126502142444653],\n",
       " [6, 3, 0.26465476916107816],\n",
       " [6, 4, 0.19202537249526505],\n",
       " [7, 2, 0.22293264106718344],\n",
       " [7, 3, 0.20164224506223824],\n",
       " [7, 4, 0.1996268150708189],\n",
       " [8, 2, 0.33717296172777034],\n",
       " [8, 3, 0.23205597859947186],\n",
       " [8, 4, 0.15236701649465384],\n",
       " [9, 2, 0.3763423390950944],\n",
       " [9, 3, 0.20089576728061806],\n",
       " [9, 4, 0.13666557817460537],\n",
       " [10, 2, 0.2470229802371707],\n",
       " [10, 3, 0.25115228196509437],\n",
       " [10, 4, 0.24157741037851352],\n",
       " [11, 2, 0.19186203052032433],\n",
       " [11, 3, 0.20120830474613838],\n",
       " [11, 4, 0.17632238169452946],\n",
       " [12, 2, 0.19181809281591042],\n",
       " [12, 3, 0.1497773900563875],\n",
       " [12, 4, 0.1490430917387688],\n",
       " [13, 2, 0.18702213564963108],\n",
       " [13, 3, 0.20028151158300592],\n",
       " [13, 4, 0.18575755964526755],\n",
       " [14, 2, 0.19418511573188002],\n",
       " [14, 3, 0.17983940178462487],\n",
       " [14, 4, 0.16383876615118906],\n",
       " [15, 2, 0.18741293287152447],\n",
       " [15, 3, 0.18288642158688714],\n",
       " [15, 4, 0.15346123590702113],\n",
       " [16, 2, 0.19210285134529123],\n",
       " [16, 3, 0.167447129675248],\n",
       " [16, 4, 0.15978379690686087]]"
      ]
     },
     "execution_count": 30,
     "metadata": {},
     "output_type": "execute_result"
    }
   ],
   "source": [
    "scores"
   ]
  },
  {
   "cell_type": "markdown",
   "id": "2SdxwFEhgqoz",
   "metadata": {
    "id": "2SdxwFEhgqoz"
   },
   "source": [
    "#### best score using 4 features and 2 clusters"
   ]
  },
  {
   "cell_type": "code",
   "execution_count": null,
   "id": "SnnQFOJ8a8za",
   "metadata": {
    "colab": {
     "base_uri": "https://localhost:8080/"
    },
    "id": "SnnQFOJ8a8za",
    "outputId": "45c2841a-dba7-4e8d-dc27-ddc8f612187d"
   },
   "outputs": [
    {
     "name": "stdout",
     "output_type": "stream",
     "text": [
      "0.20164224506223816\n"
     ]
    },
    {
     "data": {
      "text/plain": [
       "(array([0, 1, 2]), array([3277, 4235, 1438]))"
      ]
     },
     "execution_count": 31,
     "metadata": {},
     "output_type": "execute_result"
    }
   ],
   "source": [
    "#5-2, 9-2, 6-2, 4-2\n",
    "pca = PCA(7).fit(data_norm)\n",
    "df_pca = pca.transform(data_norm)\n",
    "fitted = pd.DataFrame(df_pca)\n",
    "\n",
    "model = AgglomerativeClustering(3) #3,2\n",
    "y=model.fit_predict(fitted)\n",
    "print(silhouette_score(fitted,y))\n",
    "\n",
    "np.unique(model.labels_, return_counts= True)"
   ]
  },
  {
   "cell_type": "markdown",
   "id": "TQQb3vycdTXm",
   "metadata": {
    "id": "TQQb3vycdTXm"
   },
   "source": [
    "### i tried to choose the best solution, in my point of view the best solution is when i used 7 features and 3 clusters and i think its the best solution to cluster our data "
   ]
  },
  {
   "cell_type": "markdown",
   "id": "6igkWJC4fmWq",
   "metadata": {
    "id": "6igkWJC4fmWq"
   },
   "source": [
    "## Kmeans"
   ]
  },
  {
   "cell_type": "code",
   "execution_count": null,
   "id": "yB3NNpjnfmCn",
   "metadata": {
    "id": "yB3NNpjnfmCn"
   },
   "outputs": [],
   "source": [
    "km_scores = []\n",
    "for f in range(2,17):\n",
    "    pca = PCA(f).fit(data_norm)\n",
    "    df_pca = pca.transform(data_norm)\n",
    "    fitted = pd.DataFrame(df_pca)\n",
    "    km = KMeans(n_clusters= 3).fit(fitted)\n",
    "    y = km.fit_predict(fitted)\n",
    "    km_scores.append([f, silhouette_score(fitted,y)])"
   ]
  },
  {
   "cell_type": "code",
   "execution_count": null,
   "id": "iGeFLvjMflu0",
   "metadata": {
    "colab": {
     "base_uri": "https://localhost:8080/"
    },
    "id": "iGeFLvjMflu0",
    "outputId": "1769e26f-2327-48f1-82b9-5a312cc274f3"
   },
   "outputs": [
    {
     "data": {
      "text/plain": [
       "[[2, 0.4520338928843343],\n",
       " [3, 0.3801090874743088],\n",
       " [4, 0.34331581890931845],\n",
       " [5, 0.31599595390697166],\n",
       " [6, 0.2955427497022942],\n",
       " [7, 0.28447500825274313],\n",
       " [8, 0.2741044576237487],\n",
       " [9, 0.26211688392778665],\n",
       " [10, 0.2586454635517078],\n",
       " [11, 0.2561801428930932],\n",
       " [12, 0.25351994783876564],\n",
       " [13, 0.2529737996762321],\n",
       " [14, 0.25230060897457435],\n",
       " [15, 0.250649944766388],\n",
       " [16, 0.25061191709285996]]"
      ]
     },
     "execution_count": 34,
     "metadata": {},
     "output_type": "execute_result"
    }
   ],
   "source": [
    "km_scores"
   ]
  },
  {
   "cell_type": "markdown",
   "id": "Ccso0bGjhH63",
   "metadata": {
    "id": "Ccso0bGjhH63"
   },
   "source": [
    "#### best silhouette score of KMeans using PCA at 2 feature and 3 cluster: 45%"
   ]
  },
  {
   "cell_type": "code",
   "execution_count": null,
   "id": "ePkC-uS8G7YU",
   "metadata": {
    "colab": {
     "base_uri": "https://localhost:8080/"
    },
    "id": "ePkC-uS8G7YU",
    "outputId": "b3525331-50ef-4d00-e398-10f534276552"
   },
   "outputs": [
    {
     "name": "stdout",
     "output_type": "stream",
     "text": [
      "0.283750395434568\n"
     ]
    },
    {
     "data": {
      "text/plain": [
       "(array([0, 1, 2], dtype=int32), array([1287, 6109, 1554]))"
      ]
     },
     "execution_count": 35,
     "metadata": {},
     "output_type": "execute_result"
    }
   ],
   "source": [
    "pca = PCA(7).fit(data_norm)\n",
    "df_pca = pca.transform(data_norm)\n",
    "fitted = pd.DataFrame(df_pca)\n",
    "km = KMeans(n_clusters= 3).fit(fitted)\n",
    "y = km.fit_predict(fitted)\n",
    "print(silhouette_score(fitted,y))\n",
    "\n",
    "np.unique(km.labels_, return_counts= True)"
   ]
  },
  {
   "cell_type": "markdown",
   "id": "ILBx0uF9W7Pg",
   "metadata": {
    "id": "ILBx0uF9W7Pg"
   },
   "source": [
    "#### based on PCA and silhouette score i chooses 7 features and 3 clusters, i tried to cluster data using different number of clusters and number of features but i think this solution is much better than others"
   ]
  },
  {
   "cell_type": "markdown",
   "id": "oVA1pLRbhjjx",
   "metadata": {
    "id": "oVA1pLRbhjjx"
   },
   "source": [
    "# Gaussian Mexture"
   ]
  },
  {
   "cell_type": "code",
   "execution_count": null,
   "id": "brgDBEzihm8n",
   "metadata": {
    "colab": {
     "base_uri": "https://localhost:8080/"
    },
    "id": "brgDBEzihm8n",
    "outputId": "b75e8ec6-ecf4-4fca-8f63-91043570cbe5"
   },
   "outputs": [
    {
     "data": {
      "text/plain": [
       "[[2, 0.3373867063219048],\n",
       " [3, 0.3105203813352995],\n",
       " [4, 0.19353827363015824],\n",
       " [5, 0.15674219678761542],\n",
       " [6, 0.11650533912643442],\n",
       " [7, 0.12198471427202132],\n",
       " [8, 0.07793609369871972],\n",
       " [9, 0.08163464684356189],\n",
       " [10, 0.07588409807901222],\n",
       " [11, 0.06236260375536289],\n",
       " [12, 0.08379560422431341],\n",
       " [13, 0.07209108451850757],\n",
       " [14, 0.08298788833001884],\n",
       " [15, 0.10286401568591848],\n",
       " [16, 0.11085138863978986]]"
      ]
     },
     "execution_count": 36,
     "metadata": {},
     "output_type": "execute_result"
    }
   ],
   "source": [
    "gm_scores = []\n",
    "for f in range(2,17):\n",
    "    pca = PCA(f).fit(data_norm)\n",
    "    df_pca = pca.transform(data_norm)\n",
    "    fitted = pd.DataFrame(df_pca)\n",
    "    gm = GaussianMixture(3).fit(fitted)\n",
    "    y = gm.predict(fitted)\n",
    "    gm_scores.append([f, silhouette_score(fitted, y)])\n",
    "\n",
    "gm_scores"
   ]
  },
  {
   "cell_type": "markdown",
   "id": "-YT6Uwo-iCt8",
   "metadata": {
    "id": "-YT6Uwo-iCt8"
   },
   "source": [
    "#### best score of Gaussian Mexture using PCA at 2 features and 3 number of components: 33.7%"
   ]
  },
  {
   "cell_type": "code",
   "execution_count": null,
   "id": "nGeqwkEoY_4F",
   "metadata": {
    "colab": {
     "base_uri": "https://localhost:8080/"
    },
    "id": "nGeqwkEoY_4F",
    "outputId": "5deb3a72-e718-4760-f035-1ec6c4af6773"
   },
   "outputs": [
    {
     "data": {
      "text/plain": [
       "(array([0, 1, 2]), array([1307, 2761, 4882]))"
      ]
     },
     "execution_count": 37,
     "metadata": {},
     "output_type": "execute_result"
    }
   ],
   "source": [
    "pca = PCA(2).fit(data_norm)\n",
    "df_pca = pca.transform(data_norm)\n",
    "fitted = pd.DataFrame(df_pca)\n",
    "gm = GaussianMixture(3).fit(fitted)\n",
    "y = gm.predict(fitted)\n",
    "gm_scores.append([f, silhouette_score(fitted, y)])\n",
    "\n",
    "np.unique(y, return_counts= True)"
   ]
  },
  {
   "cell_type": "code",
   "execution_count": null,
   "id": "Bg1IP9paHLjP",
   "metadata": {
    "colab": {
     "base_uri": "https://localhost:8080/"
    },
    "id": "Bg1IP9paHLjP",
    "outputId": "aeecf8f5-4703-400a-96c7-11b5aada2ab3"
   },
   "outputs": [
    {
     "data": {
      "text/plain": [
       "(array([0, 1, 2]), array([3850, 2346, 2754]))"
      ]
     },
     "execution_count": 38,
     "metadata": {},
     "output_type": "execute_result"
    }
   ],
   "source": [
    "pca = PCA(5).fit(data_norm)\n",
    "df_pca = pca.transform(data_norm)\n",
    "fitted = pd.DataFrame(df_pca)\n",
    "gm = GaussianMixture(3).fit(fitted)\n",
    "y = gm.predict(fitted)\n",
    "gm_scores.append([f, silhouette_score(fitted, y)])\n",
    "\n",
    "np.unique(y, return_counts= True)"
   ]
  },
  {
   "cell_type": "markdown",
   "id": "Wfzzy2tMYSzh",
   "metadata": {
    "id": "Wfzzy2tMYSzh"
   },
   "source": [
    "### from the results of PCA i found from no of features = 8 to 16 they are almost the same so i tried to use 7 features with 3 no of clusters then i checked the number of of points in each cluster i think its much better and i tried to use 2 features but i found there is slightly difference between 2 and 7 features so i choose 7 to not lose information about data\n"
   ]
  },
  {
   "cell_type": "markdown",
   "id": "q2FeGd1AiZg2",
   "metadata": {
    "id": "q2FeGd1AiZg2"
   },
   "source": [
    "# DBSCAN"
   ]
  },
  {
   "cell_type": "code",
   "execution_count": null,
   "id": "-y2NayPJhm4Q",
   "metadata": {
    "colab": {
     "base_uri": "https://localhost:8080/"
    },
    "id": "-y2NayPJhm4Q",
    "outputId": "939b3e61-054e-4cb5-edf9-2c3df9c3528c"
   },
   "outputs": [
    {
     "data": {
      "text/plain": [
       "[[2, 0.8104808766070396],\n",
       " [3, 0.7728702131880973],\n",
       " [4, 0.7209771313794544],\n",
       " [5, 0.6831038049679227],\n",
       " [6, 0.6577712992634642],\n",
       " [7, 0.6279547601837809],\n",
       " [8, 0.6053037885107395],\n",
       " [9, 0.587208751749875],\n",
       " [10, 0.5745859061271565],\n",
       " [11, 0.5654138448941317],\n",
       " [12, 0.5512705223055482],\n",
       " [13, 0.5397862465929304],\n",
       " [14, 0.5272645292606839],\n",
       " [15, 0.5171859615607569],\n",
       " [16, 0.514243205645705]]"
      ]
     },
     "execution_count": 39,
     "metadata": {},
     "output_type": "execute_result"
    }
   ],
   "source": [
    "db_scores = []\n",
    "\n",
    "for f in range(2,17):\n",
    "    pca = PCA(f).fit(data_norm)\n",
    "    df_pca = pca.transform(data_norm)\n",
    "    fitted = pd.DataFrame(df_pca)\n",
    "\n",
    "    db = DBSCAN(eps = 2.5, min_samples = 36).fit(fitted)\n",
    "    y=db.fit_predict(fitted)\n",
    "    db_scores.append([f, silhouette_score(fitted, y)])\n",
    "\n",
    "db_scores"
   ]
  },
  {
   "cell_type": "markdown",
   "id": "I1Y6A-2_pA73",
   "metadata": {
    "id": "I1Y6A-2_pA73"
   },
   "source": [
    "#### best score at 2 features and eps = 2.5, min_samples = 36: 81%"
   ]
  },
  {
   "cell_type": "code",
   "execution_count": null,
   "id": "peQnS-2wHbRL",
   "metadata": {
    "colab": {
     "base_uri": "https://localhost:8080/"
    },
    "id": "peQnS-2wHbRL",
    "outputId": "f02e3534-50fa-4785-fe0e-d2ea0e29acb2"
   },
   "outputs": [
    {
     "data": {
      "text/plain": [
       "(array([-1,  0]), array([ 223, 8727]))"
      ]
     },
     "execution_count": 42,
     "metadata": {},
     "output_type": "execute_result"
    }
   ],
   "source": [
    "pca = PCA(7).fit(data_norm)\n",
    "df_pca = pca.transform(data_norm)\n",
    "fitted = pd.DataFrame(df_pca)\n",
    "db = DBSCAN(eps = 2.5, min_samples = 36).fit(fitted)\n",
    "y = db.fit_predict(fitted)\n",
    "db_scores.append([f, silhouette_score(fitted, y)])\n",
    "\n",
    "np.unique(db.labels_, return_counts= True)"
   ]
  },
  {
   "cell_type": "markdown",
   "id": "KudjyhDPaDdw",
   "metadata": {
    "id": "KudjyhDPaDdw"
   },
   "source": [
    "### i tried many times to choose number of epsilon and min_samples but i think DBSCAN is not good to cluster our data"
   ]
  },
  {
   "cell_type": "markdown",
   "id": "LmHIEjOJd6mX",
   "metadata": {
    "id": "LmHIEjOJd6mX"
   },
   "source": [
    "# at the end i think the best model and solution to cluster data is Agglomerativeclustering using PCA to choose 7 features and using 3 clusters"
   ]
  },
  {
   "cell_type": "code",
   "execution_count": null,
   "id": "mOljEVkcttWX",
   "metadata": {
    "id": "mOljEVkcttWX"
   },
   "outputs": [],
   "source": []
  }
 ],
 "metadata": {
  "colab": {
   "provenance": []
  },
  "kernelspec": {
   "display_name": "Python 3 (ipykernel)",
   "language": "python",
   "name": "python3"
  },
  "language_info": {
   "codemirror_mode": {
    "name": "ipython",
    "version": 3
   },
   "file_extension": ".py",
   "mimetype": "text/x-python",
   "name": "python",
   "nbconvert_exporter": "python",
   "pygments_lexer": "ipython3",
   "version": "3.10.3"
  }
 },
 "nbformat": 4,
 "nbformat_minor": 5
}
